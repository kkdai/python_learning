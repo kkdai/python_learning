{
 "cells": [
  {
   "cell_type": "code",
   "execution_count": 7,
   "metadata": {
    "collapsed": false
   },
   "outputs": [
    {
     "name": "stdout",
     "output_type": "stream",
     "text": [
      "-60 75\n"
     ]
    }
   ],
   "source": [
    "class BankAccount:\n",
    "    balance = 0\n",
    "    fee = 0\n",
    "    \n",
    "    def __init__(self, initial_balance):\n",
    "        self.balance = initial_balance\n",
    "    \n",
    "    def deposit(self, amount):\n",
    "        self.balance += amount\n",
    "\n",
    "    def withdraw(self, amount):\n",
    "        self.balance -= amount     \n",
    "        if self.balance < 0:\n",
    "            self.fee += 5\n",
    "            self.balance -= 5\n",
    "            \n",
    "    def get_balance(self):\n",
    "        return self.balance\n",
    "    \n",
    "    def get_fees(self):\n",
    "        return self.fee\n",
    "\n",
    "# my_account = BankAccount(10)\n",
    "# my_account.withdraw(15)\n",
    "# my_account.deposit(20)\n",
    "# print my_account.get_balance(), my_account.get_fees()\n",
    "# 10 5\n",
    "    \n",
    "my_account = BankAccount(10)\n",
    "my_account.withdraw(5)\n",
    "my_account.deposit(10)\n",
    "my_account.withdraw(5)\n",
    "my_account.withdraw(15)\n",
    "my_account.deposit(20)\n",
    "my_account.withdraw(5) \n",
    "my_account.deposit(10)\n",
    "my_account.deposit(20)\n",
    "my_account.withdraw(15)\n",
    "my_account.deposit(30)\n",
    "my_account.withdraw(10)\n",
    "my_account.withdraw(15)\n",
    "my_account.deposit(10)\n",
    "my_account.withdraw(50) \n",
    "my_account.deposit(30)\n",
    "my_account.withdraw(15)\n",
    "my_account.deposit(10)\n",
    "my_account.withdraw(5) \n",
    "my_account.deposit(20)\n",
    "my_account.withdraw(15)\n",
    "my_account.deposit(10)\n",
    "my_account.deposit(30)\n",
    "my_account.withdraw(25) \n",
    "my_account.withdraw(5)\n",
    "my_account.deposit(10)\n",
    "my_account.withdraw(15)\n",
    "my_account.deposit(10)\n",
    "my_account.withdraw(10) \n",
    "my_account.withdraw(15)\n",
    "my_account.deposit(10)\n",
    "my_account.deposit(30)\n",
    "my_account.withdraw(25) \n",
    "my_account.withdraw(10)\n",
    "my_account.deposit(20)\n",
    "my_account.deposit(10)\n",
    "my_account.withdraw(5) \n",
    "my_account.withdraw(15)\n",
    "my_account.deposit(10)\n",
    "my_account.withdraw(5) \n",
    "my_account.withdraw(15)\n",
    "my_account.deposit(10)\n",
    "my_account.withdraw(5) \n",
    "print my_account.get_balance(), my_account.get_fees()"
   ]
  },
  {
   "cell_type": "code",
   "execution_count": 8,
   "metadata": {
    "collapsed": true
   },
   "outputs": [],
   "source": [
    "my_account.withdraw(5)\n"
   ]
  },
  {
   "cell_type": "markdown",
   "metadata": {},
   "source": [
    "print(\"sss\")"
   ]
  },
  {
   "cell_type": "markdown",
   "metadata": {},
   "source": [
    "- 1\n",
    "- 2 ....\n",
    "- 3\n"
   ]
  }
 ],
 "metadata": {
  "kernelspec": {
   "display_name": "Python 2",
   "language": "python",
   "name": "python2"
  },
  "language_info": {
   "codemirror_mode": {
    "name": "ipython",
    "version": 2
   },
   "file_extension": ".py",
   "mimetype": "text/x-python",
   "name": "python",
   "nbconvert_exporter": "python",
   "pygments_lexer": "ipython2",
   "version": "2.7.12"
  }
 },
 "nbformat": 4,
 "nbformat_minor": 0
}
